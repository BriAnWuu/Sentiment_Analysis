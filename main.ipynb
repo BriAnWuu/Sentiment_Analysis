{
 "cells": [
  {
   "cell_type": "code",
   "execution_count": 16,
   "metadata": {},
   "outputs": [],
   "source": [
    "import news # Module source code in news.py\n",
    "\n",
    "from transformers import pipeline\n",
    "from nltk.sentiment.vader import SentimentIntensityAnalyzer\n",
    "from tqdm.notebook import tqdm"
   ]
  },
  {
   "cell_type": "code",
   "execution_count": 17,
   "metadata": {},
   "outputs": [],
   "source": [
    "# # Download vader_lexicon model\n",
    "# import nltk\n",
    "# nltk.download()"
   ]
  },
  {
   "cell_type": "code",
   "execution_count": 18,
   "metadata": {},
   "outputs": [
    {
     "name": "stdout",
     "output_type": "stream",
     "text": [
      "Data successfully loaded.\n"
     ]
    }
   ],
   "source": [
    "# Get news feeds using Google RSS\n",
    "news_feeds = news.GoogleNews('Apple')"
   ]
  },
  {
   "cell_type": "code",
   "execution_count": 19,
   "metadata": {},
   "outputs": [
    {
     "data": {
      "text/plain": [
       "108"
      ]
     },
     "execution_count": 19,
     "metadata": {},
     "output_type": "execute_result"
    }
   ],
   "source": [
    "# Articles found\n",
    "len(news_feeds.feeds)"
   ]
  },
  {
   "cell_type": "code",
   "execution_count": 20,
   "metadata": {},
   "outputs": [
    {
     "data": {
      "text/plain": [
       "[\"Apple is changing the charging port with iPhone 15, and it won't be like the last time - 9to5Mac\",\n",
       " 'Why Apple Is Moving Your Health Information to the iPad - CNET',\n",
       " 'Apple reportedly cut its Vision Pro headset first year production goals by more than 50% because it’s so complex for manufacturers to make - Fortune',\n",
       " 'Apple Leak Details All-New iPhone 15, iPhone 15 Pro Design Changes - Forbes',\n",
       " 'Apple will permanently delete photos in July — how to keep yours safe - New York Post ',\n",
       " \"Apple Is Now Worth $3 Trillion. How Its Stock Could Rise Another 30%. - Barron's\",\n",
       " 'Apple Says Latest 13-Inch MacBook Air Now Supports Bluetooth 5.3 - MacRumors',\n",
       " \"Intel prevented Apple from making a 15-inch MacBook Air: “It just did not say 'Air' to us” - 9to5Mac\",\n",
       " 'Best July 4th Apple deals: 15-inch M2 MacBook Air, AirPods, more - 9to5Mac',\n",
       " 'Apple to ask US Supreme Court to undo App Store order in Epic Games case - Reuters.com']"
      ]
     },
     "execution_count": 20,
     "metadata": {},
     "output_type": "execute_result"
    }
   ],
   "source": [
    "# Get 10 news titles\n",
    "titles = news_feeds.get_titles()[:10]\n",
    "titles"
   ]
  },
  {
   "attachments": {},
   "cell_type": "markdown",
   "metadata": {},
   "source": [
    "## NLTK Vader model"
   ]
  },
  {
   "cell_type": "code",
   "execution_count": 21,
   "metadata": {},
   "outputs": [
    {
     "name": "stdout",
     "output_type": "stream",
     "text": [
      "Apple is changing the charging port with iPhone 15, and it won't be like the last time - 9to5Mac\n",
      "{'neg': 0.11, 'neu': 0.89, 'pos': 0.0, 'compound': -0.2755}\n",
      "Why Apple Is Moving Your Health Information to the iPad - CNET\n",
      "{'neg': 0.0, 'neu': 1.0, 'pos': 0.0, 'compound': 0.0}\n",
      "Apple reportedly cut its Vision Pro headset first year production goals by more than 50% because it’s so complex for manufacturers to make - Fortune\n",
      "{'neg': 0.08, 'neu': 0.843, 'pos': 0.077, 'compound': -0.0258}\n",
      "Apple Leak Details All-New iPhone 15, iPhone 15 Pro Design Changes - Forbes\n",
      "{'neg': 0.179, 'neu': 0.821, 'pos': 0.0, 'compound': -0.34}\n",
      "Apple will permanently delete photos in July — how to keep yours safe - New York Post \n",
      "{'neg': 0.0, 'neu': 0.828, 'pos': 0.172, 'compound': 0.4404}\n",
      "Apple Is Now Worth $3 Trillion. How Its Stock Could Rise Another 30%. - Barron's\n",
      "{'neg': 0.0, 'neu': 0.872, 'pos': 0.128, 'compound': 0.2263}\n",
      "Apple Says Latest 13-Inch MacBook Air Now Supports Bluetooth 5.3 - MacRumors\n",
      "{'neg': 0.0, 'neu': 0.8, 'pos': 0.2, 'compound': 0.3612}\n",
      "Intel prevented Apple from making a 15-inch MacBook Air: “It just did not say 'Air' to us” - 9to5Mac\n",
      "{'neg': 0.0, 'neu': 0.936, 'pos': 0.064, 'compound': 0.0258}\n",
      "Best July 4th Apple deals: 15-inch M2 MacBook Air, AirPods, more - 9to5Mac\n",
      "{'neg': 0.0, 'neu': 0.724, 'pos': 0.276, 'compound': 0.6369}\n",
      "Apple to ask US Supreme Court to undo App Store order in Epic Games case - Reuters.com\n",
      "{'neg': 0.0, 'neu': 0.806, 'pos': 0.194, 'compound': 0.5574}\n"
     ]
    }
   ],
   "source": [
    "# Run NLTK sentiment analysis socres on news titles\n",
    "for title in titles:\n",
    "    print(title)\n",
    "    \n",
    "    # negative score (0 ~ 1)\n",
    "    # neutral score (0 ~ 1)\n",
    "    # positive score (0 ~ 1)\n",
    "    # overall compound score (-1 ~ 1)\n",
    "    print(SentimentIntensityAnalyzer().polarity_scores(title))"
   ]
  },
  {
   "attachments": {},
   "cell_type": "markdown",
   "metadata": {},
   "source": [
    "Results does not look useful. Look for other model specialized in news analysis."
   ]
  },
  {
   "attachments": {},
   "cell_type": "markdown",
   "metadata": {},
   "source": [
    "## Huggingface (Transformers) models"
   ]
  },
  {
   "cell_type": "code",
   "execution_count": 22,
   "metadata": {},
   "outputs": [
    {
     "name": "stderr",
     "output_type": "stream",
     "text": [
      "emoji is not installed, thus not converting emoticons or emojis into text. Install emoji: pip3 install emoji==0.6.0\n"
     ]
    },
    {
     "name": "stdout",
     "output_type": "stream",
     "text": [
      "Apple is changing the charging port with iPhone 15, and it won't be like the last time - 9to5Mac\n",
      "{'label': 'NEU', 'score': 0.6830855011940002}\n",
      "Why Apple Is Moving Your Health Information to the iPad - CNET\n",
      "{'label': 'NEU', 'score': 0.7866937518119812}\n",
      "Apple reportedly cut its Vision Pro headset first year production goals by more than 50% because it’s so complex for manufacturers to make - Fortune\n",
      "{'label': 'NEG', 'score': 0.8146339654922485}\n",
      "Apple Leak Details All-New iPhone 15, iPhone 15 Pro Design Changes - Forbes\n",
      "{'label': 'NEU', 'score': 0.9010047912597656}\n",
      "Apple will permanently delete photos in July — how to keep yours safe - New York Post \n",
      "{'label': 'NEU', 'score': 0.8521539568901062}\n",
      "Apple Is Now Worth $3 Trillion. How Its Stock Could Rise Another 30%. - Barron's\n",
      "{'label': 'NEU', 'score': 0.5104926824569702}\n",
      "Apple Says Latest 13-Inch MacBook Air Now Supports Bluetooth 5.3 - MacRumors\n",
      "{'label': 'POS', 'score': 0.6306926608085632}\n",
      "Intel prevented Apple from making a 15-inch MacBook Air: “It just did not say 'Air' to us” - 9to5Mac\n",
      "{'label': 'NEG', 'score': 0.8053821325302124}\n",
      "Best July 4th Apple deals: 15-inch M2 MacBook Air, AirPods, more - 9to5Mac\n",
      "{'label': 'POS', 'score': 0.9375929236412048}\n",
      "Apple to ask US Supreme Court to undo App Store order in Epic Games case - Reuters.com\n",
      "{'label': 'NEU', 'score': 0.9495944380760193}\n"
     ]
    }
   ],
   "source": [
    "# Run huggingface (transformers) pipeline bertweet sentiment model\n",
    "sentiment_pipeline = pipeline('sentiment-analysis', model='finiteautomata/bertweet-base-sentiment-analysis')\n",
    "pipe_result = sentiment_pipeline(titles)\n",
    "\n",
    "for title, result in zip(titles, pipe_result):\n",
    "    print(title)\n",
    "    print(result)"
   ]
  },
  {
   "cell_type": "code",
   "execution_count": 23,
   "metadata": {},
   "outputs": [
    {
     "name": "stdout",
     "output_type": "stream",
     "text": [
      "Apple is changing the charging port with iPhone 15, and it won't be like the last time - 9to5Mac\n",
      "{'label': 'neutral', 'score': 0.9998282194137573}\n",
      "Why Apple Is Moving Your Health Information to the iPad - CNET\n",
      "{'label': 'neutral', 'score': 0.9998749494552612}\n",
      "Apple reportedly cut its Vision Pro headset first year production goals by more than 50% because it’s so complex for manufacturers to make - Fortune\n",
      "{'label': 'negative', 'score': 0.9980727434158325}\n",
      "Apple Leak Details All-New iPhone 15, iPhone 15 Pro Design Changes - Forbes\n",
      "{'label': 'neutral', 'score': 0.999840497970581}\n",
      "Apple will permanently delete photos in July — how to keep yours safe - New York Post \n",
      "{'label': 'neutral', 'score': 0.9998084902763367}\n",
      "Apple Is Now Worth $3 Trillion. How Its Stock Could Rise Another 30%. - Barron's\n",
      "{'label': 'positive', 'score': 0.9995013475418091}\n",
      "Apple Says Latest 13-Inch MacBook Air Now Supports Bluetooth 5.3 - MacRumors\n",
      "{'label': 'neutral', 'score': 0.9972571730613708}\n",
      "Intel prevented Apple from making a 15-inch MacBook Air: “It just did not say 'Air' to us” - 9to5Mac\n",
      "{'label': 'neutral', 'score': 0.9945693612098694}\n",
      "Best July 4th Apple deals: 15-inch M2 MacBook Air, AirPods, more - 9to5Mac\n",
      "{'label': 'neutral', 'score': 0.999816358089447}\n",
      "Apple to ask US Supreme Court to undo App Store order in Epic Games case - Reuters.com\n",
      "{'label': 'neutral', 'score': 0.998702883720398}\n"
     ]
    }
   ],
   "source": [
    "# Run huggingface (transformers) pipeline roberta-financial-news sentiment model\n",
    "sentiment_pipeline = pipeline('sentiment-analysis', model='mrm8488/distilroberta-finetuned-financial-news-sentiment-analysis')\n",
    "pipe_result = sentiment_pipeline(titles)\n",
    "\n",
    "for title, result in zip(titles, pipe_result):\n",
    "    print(title)\n",
    "    print(result)"
   ]
  },
  {
   "attachments": {},
   "cell_type": "markdown",
   "metadata": {},
   "source": [
    "Financial news specific model seem more useful."
   ]
  },
  {
   "cell_type": "code",
   "execution_count": 26,
   "metadata": {},
   "outputs": [],
   "source": [
    "# find labeled data to test each model"
   ]
  },
  {
   "cell_type": "code",
   "execution_count": 25,
   "metadata": {},
   "outputs": [],
   "source": [
    "# fine-tune a pretrained model"
   ]
  }
 ],
 "metadata": {
  "kernelspec": {
   "display_name": "base",
   "language": "python",
   "name": "python3"
  },
  "language_info": {
   "codemirror_mode": {
    "name": "ipython",
    "version": 3
   },
   "file_extension": ".py",
   "mimetype": "text/x-python",
   "name": "python",
   "nbconvert_exporter": "python",
   "pygments_lexer": "ipython3",
   "version": "3.8.16"
  },
  "orig_nbformat": 4
 },
 "nbformat": 4,
 "nbformat_minor": 2
}
