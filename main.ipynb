{
 "cells": [
  {
   "cell_type": "code",
   "execution_count": 2,
   "metadata": {},
   "outputs": [],
   "source": [
    "import news # Module for getting news feeds, source code in news.py\n",
    "import tools # Module for specific tasks (to make notebook look cleaner)\n",
    "import pandas as pd\n",
    "\n",
    "from transformers import pipeline\n",
    "from nltk.sentiment.vader import SentimentIntensityAnalyzer"
   ]
  },
  {
   "cell_type": "code",
   "execution_count": 17,
   "metadata": {},
   "outputs": [],
   "source": [
    "# # Download vader_lexicon model\n",
    "# import nltk\n",
    "# nltk.download()"
   ]
  },
  {
   "attachments": {},
   "cell_type": "markdown",
   "metadata": {},
   "source": [
    "## Load News Feeds"
   ]
  },
  {
   "cell_type": "code",
   "execution_count": 18,
   "metadata": {},
   "outputs": [
    {
     "name": "stdout",
     "output_type": "stream",
     "text": [
      "Data successfully loaded.\n"
     ]
    }
   ],
   "source": [
    "# Get news feeds using Google RSS\n",
    "news_feeds = news.GoogleNews('Apple')"
   ]
  },
  {
   "cell_type": "code",
   "execution_count": 19,
   "metadata": {},
   "outputs": [
    {
     "data": {
      "text/plain": [
       "108"
      ]
     },
     "execution_count": 19,
     "metadata": {},
     "output_type": "execute_result"
    }
   ],
   "source": [
    "# Articles found\n",
    "len(news_feeds.feeds)"
   ]
  },
  {
   "cell_type": "code",
   "execution_count": 20,
   "metadata": {},
   "outputs": [
    {
     "data": {
      "text/plain": [
       "[\"Apple is changing the charging port with iPhone 15, and it won't be like the last time - 9to5Mac\",\n",
       " 'Why Apple Is Moving Your Health Information to the iPad - CNET',\n",
       " 'Apple reportedly cut its Vision Pro headset first year production goals by more than 50% because it’s so complex for manufacturers to make - Fortune',\n",
       " 'Apple Leak Details All-New iPhone 15, iPhone 15 Pro Design Changes - Forbes',\n",
       " 'Apple will permanently delete photos in July — how to keep yours safe - New York Post ',\n",
       " \"Apple Is Now Worth $3 Trillion. How Its Stock Could Rise Another 30%. - Barron's\",\n",
       " 'Apple Says Latest 13-Inch MacBook Air Now Supports Bluetooth 5.3 - MacRumors',\n",
       " \"Intel prevented Apple from making a 15-inch MacBook Air: “It just did not say 'Air' to us” - 9to5Mac\",\n",
       " 'Best July 4th Apple deals: 15-inch M2 MacBook Air, AirPods, more - 9to5Mac',\n",
       " 'Apple to ask US Supreme Court to undo App Store order in Epic Games case - Reuters.com']"
      ]
     },
     "execution_count": 20,
     "metadata": {},
     "output_type": "execute_result"
    }
   ],
   "source": [
    "# Get 10 news titles\n",
    "titles = news_feeds.get_titles()[:10]\n",
    "titles"
   ]
  },
  {
   "attachments": {},
   "cell_type": "markdown",
   "metadata": {},
   "source": [
    "## NLTK Vader model"
   ]
  },
  {
   "cell_type": "code",
   "execution_count": 21,
   "metadata": {},
   "outputs": [
    {
     "name": "stdout",
     "output_type": "stream",
     "text": [
      "Apple is changing the charging port with iPhone 15, and it won't be like the last time - 9to5Mac\n",
      "{'neg': 0.11, 'neu': 0.89, 'pos': 0.0, 'compound': -0.2755}\n",
      "Why Apple Is Moving Your Health Information to the iPad - CNET\n",
      "{'neg': 0.0, 'neu': 1.0, 'pos': 0.0, 'compound': 0.0}\n",
      "Apple reportedly cut its Vision Pro headset first year production goals by more than 50% because it’s so complex for manufacturers to make - Fortune\n",
      "{'neg': 0.08, 'neu': 0.843, 'pos': 0.077, 'compound': -0.0258}\n",
      "Apple Leak Details All-New iPhone 15, iPhone 15 Pro Design Changes - Forbes\n",
      "{'neg': 0.179, 'neu': 0.821, 'pos': 0.0, 'compound': -0.34}\n",
      "Apple will permanently delete photos in July — how to keep yours safe - New York Post \n",
      "{'neg': 0.0, 'neu': 0.828, 'pos': 0.172, 'compound': 0.4404}\n",
      "Apple Is Now Worth $3 Trillion. How Its Stock Could Rise Another 30%. - Barron's\n",
      "{'neg': 0.0, 'neu': 0.872, 'pos': 0.128, 'compound': 0.2263}\n",
      "Apple Says Latest 13-Inch MacBook Air Now Supports Bluetooth 5.3 - MacRumors\n",
      "{'neg': 0.0, 'neu': 0.8, 'pos': 0.2, 'compound': 0.3612}\n",
      "Intel prevented Apple from making a 15-inch MacBook Air: “It just did not say 'Air' to us” - 9to5Mac\n",
      "{'neg': 0.0, 'neu': 0.936, 'pos': 0.064, 'compound': 0.0258}\n",
      "Best July 4th Apple deals: 15-inch M2 MacBook Air, AirPods, more - 9to5Mac\n",
      "{'neg': 0.0, 'neu': 0.724, 'pos': 0.276, 'compound': 0.6369}\n",
      "Apple to ask US Supreme Court to undo App Store order in Epic Games case - Reuters.com\n",
      "{'neg': 0.0, 'neu': 0.806, 'pos': 0.194, 'compound': 0.5574}\n"
     ]
    }
   ],
   "source": [
    "# Run NLTK sentiment analysis socres on news titles\n",
    "for title in titles:\n",
    "    print(title)\n",
    "    \n",
    "    # negative score (0 ~ 1)\n",
    "    # neutral score (0 ~ 1)\n",
    "    # positive score (0 ~ 1)\n",
    "    # overall compound score (-1 ~ 1)\n",
    "    print(SentimentIntensityAnalyzer().polarity_scores(title))"
   ]
  },
  {
   "attachments": {},
   "cell_type": "markdown",
   "metadata": {},
   "source": [
    "Results does not look useful. Look for other model specialized in news analysis."
   ]
  },
  {
   "attachments": {},
   "cell_type": "markdown",
   "metadata": {},
   "source": [
    "## Huggingface (Transformers) models"
   ]
  },
  {
   "cell_type": "code",
   "execution_count": 22,
   "metadata": {},
   "outputs": [
    {
     "name": "stderr",
     "output_type": "stream",
     "text": [
      "emoji is not installed, thus not converting emoticons or emojis into text. Install emoji: pip3 install emoji==0.6.0\n"
     ]
    },
    {
     "name": "stdout",
     "output_type": "stream",
     "text": [
      "Apple is changing the charging port with iPhone 15, and it won't be like the last time - 9to5Mac\n",
      "{'label': 'NEU', 'score': 0.6830855011940002}\n",
      "Why Apple Is Moving Your Health Information to the iPad - CNET\n",
      "{'label': 'NEU', 'score': 0.7866937518119812}\n",
      "Apple reportedly cut its Vision Pro headset first year production goals by more than 50% because it’s so complex for manufacturers to make - Fortune\n",
      "{'label': 'NEG', 'score': 0.8146339654922485}\n",
      "Apple Leak Details All-New iPhone 15, iPhone 15 Pro Design Changes - Forbes\n",
      "{'label': 'NEU', 'score': 0.9010047912597656}\n",
      "Apple will permanently delete photos in July — how to keep yours safe - New York Post \n",
      "{'label': 'NEU', 'score': 0.8521539568901062}\n",
      "Apple Is Now Worth $3 Trillion. How Its Stock Could Rise Another 30%. - Barron's\n",
      "{'label': 'NEU', 'score': 0.5104926824569702}\n",
      "Apple Says Latest 13-Inch MacBook Air Now Supports Bluetooth 5.3 - MacRumors\n",
      "{'label': 'POS', 'score': 0.6306926608085632}\n",
      "Intel prevented Apple from making a 15-inch MacBook Air: “It just did not say 'Air' to us” - 9to5Mac\n",
      "{'label': 'NEG', 'score': 0.8053821325302124}\n",
      "Best July 4th Apple deals: 15-inch M2 MacBook Air, AirPods, more - 9to5Mac\n",
      "{'label': 'POS', 'score': 0.9375929236412048}\n",
      "Apple to ask US Supreme Court to undo App Store order in Epic Games case - Reuters.com\n",
      "{'label': 'NEU', 'score': 0.9495944380760193}\n"
     ]
    }
   ],
   "source": [
    "# Run huggingface (transformers) pipeline bertweet sentiment model\n",
    "sentiment_pipeline = pipeline('sentiment-analysis', model='finiteautomata/bertweet-base-sentiment-analysis')\n",
    "pipe_result = sentiment_pipeline(titles)\n",
    "\n",
    "for title, result in zip(titles, pipe_result):\n",
    "    print(title)\n",
    "    print(result)"
   ]
  },
  {
   "cell_type": "code",
   "execution_count": 23,
   "metadata": {},
   "outputs": [
    {
     "name": "stdout",
     "output_type": "stream",
     "text": [
      "Apple is changing the charging port with iPhone 15, and it won't be like the last time - 9to5Mac\n",
      "{'label': 'neutral', 'score': 0.9998282194137573}\n",
      "Why Apple Is Moving Your Health Information to the iPad - CNET\n",
      "{'label': 'neutral', 'score': 0.9998749494552612}\n",
      "Apple reportedly cut its Vision Pro headset first year production goals by more than 50% because it’s so complex for manufacturers to make - Fortune\n",
      "{'label': 'negative', 'score': 0.9980727434158325}\n",
      "Apple Leak Details All-New iPhone 15, iPhone 15 Pro Design Changes - Forbes\n",
      "{'label': 'neutral', 'score': 0.999840497970581}\n",
      "Apple will permanently delete photos in July — how to keep yours safe - New York Post \n",
      "{'label': 'neutral', 'score': 0.9998084902763367}\n",
      "Apple Is Now Worth $3 Trillion. How Its Stock Could Rise Another 30%. - Barron's\n",
      "{'label': 'positive', 'score': 0.9995013475418091}\n",
      "Apple Says Latest 13-Inch MacBook Air Now Supports Bluetooth 5.3 - MacRumors\n",
      "{'label': 'neutral', 'score': 0.9972571730613708}\n",
      "Intel prevented Apple from making a 15-inch MacBook Air: “It just did not say 'Air' to us” - 9to5Mac\n",
      "{'label': 'neutral', 'score': 0.9945693612098694}\n",
      "Best July 4th Apple deals: 15-inch M2 MacBook Air, AirPods, more - 9to5Mac\n",
      "{'label': 'neutral', 'score': 0.999816358089447}\n",
      "Apple to ask US Supreme Court to undo App Store order in Epic Games case - Reuters.com\n",
      "{'label': 'neutral', 'score': 0.998702883720398}\n"
     ]
    }
   ],
   "source": [
    "# Run huggingface (transformers) pipeline roberta-financial-news sentiment model\n",
    "sentiment_pipeline = pipeline('sentiment-analysis', model='mrm8488/distilroberta-finetuned-financial-news-sentiment-analysis')\n",
    "pipe_result = sentiment_pipeline(titles)\n",
    "\n",
    "for title, result in zip(titles, pipe_result):\n",
    "    print(title)\n",
    "    print(result)"
   ]
  },
  {
   "attachments": {},
   "cell_type": "markdown",
   "metadata": {},
   "source": [
    "Financial news specific model seem more useful."
   ]
  },
  {
   "attachments": {},
   "cell_type": "markdown",
   "metadata": {},
   "source": [
    "## Use labeled data to test models"
   ]
  },
  {
   "cell_type": "code",
   "execution_count": 61,
   "metadata": {},
   "outputs": [
    {
     "data": {
      "text/html": [
       "<div>\n",
       "<style scoped>\n",
       "    .dataframe tbody tr th:only-of-type {\n",
       "        vertical-align: middle;\n",
       "    }\n",
       "\n",
       "    .dataframe tbody tr th {\n",
       "        vertical-align: top;\n",
       "    }\n",
       "\n",
       "    .dataframe thead th {\n",
       "        text-align: right;\n",
       "    }\n",
       "</style>\n",
       "<table border=\"1\" class=\"dataframe\">\n",
       "  <thead>\n",
       "    <tr style=\"text-align: right;\">\n",
       "      <th></th>\n",
       "      <th>text</th>\n",
       "      <th>label</th>\n",
       "    </tr>\n",
       "  </thead>\n",
       "  <tbody>\n",
       "    <tr>\n",
       "      <th>0</th>\n",
       "      <td>$BYND - JPMorgan reels in expectations on Beyo...</td>\n",
       "      <td>0</td>\n",
       "    </tr>\n",
       "    <tr>\n",
       "      <th>1</th>\n",
       "      <td>$CCL $RCL - Nomura points to bookings weakness...</td>\n",
       "      <td>0</td>\n",
       "    </tr>\n",
       "    <tr>\n",
       "      <th>2</th>\n",
       "      <td>$CX - Cemex cut at Credit Suisse, J.P. Morgan ...</td>\n",
       "      <td>0</td>\n",
       "    </tr>\n",
       "    <tr>\n",
       "      <th>3</th>\n",
       "      <td>$ESS: BTIG Research cuts to Neutral https://t....</td>\n",
       "      <td>0</td>\n",
       "    </tr>\n",
       "    <tr>\n",
       "      <th>4</th>\n",
       "      <td>$FNKO - Funko slides after Piper Jaffray PT cu...</td>\n",
       "      <td>0</td>\n",
       "    </tr>\n",
       "  </tbody>\n",
       "</table>\n",
       "</div>"
      ],
      "text/plain": [
       "                                                text  label\n",
       "0  $BYND - JPMorgan reels in expectations on Beyo...      0\n",
       "1  $CCL $RCL - Nomura points to bookings weakness...      0\n",
       "2  $CX - Cemex cut at Credit Suisse, J.P. Morgan ...      0\n",
       "3  $ESS: BTIG Research cuts to Neutral https://t....      0\n",
       "4  $FNKO - Funko slides after Piper Jaffray PT cu...      0"
      ]
     },
     "execution_count": 61,
     "metadata": {},
     "output_type": "execute_result"
    }
   ],
   "source": [
    "# source : https://huggingface.co/datasets/zeroshot/twitter-financial-news-sentiment\n",
    "# 'label' : {\n",
    "#     0 : 'bearish',\n",
    "#     1 : 'bullish',\n",
    "#     2 : 'neutral'\n",
    "# }\n",
    "financialNews_df = pd.read_parquet('csv-train.parquet')\n",
    "financialNews_df.head()"
   ]
  },
  {
   "cell_type": "code",
   "execution_count": 70,
   "metadata": {},
   "outputs": [
    {
     "name": "stdout",
     "output_type": "stream",
     "text": [
      "<class 'pandas.core.frame.DataFrame'>\n",
      "RangeIndex: 9543 entries, 0 to 9542\n",
      "Data columns (total 2 columns):\n",
      " #   Column  Non-Null Count  Dtype \n",
      "---  ------  --------------  ----- \n",
      " 0   text    9543 non-null   object\n",
      " 1   label   9543 non-null   int64 \n",
      "dtypes: int64(1), object(1)\n",
      "memory usage: 149.2+ KB\n"
     ]
    }
   ],
   "source": [
    "financialNews_df.info()"
   ]
  },
  {
   "cell_type": "code",
   "execution_count": 63,
   "metadata": {},
   "outputs": [
    {
     "data": {
      "text/plain": [
       "'$BYND - JPMorgan reels in expectations on Beyond Meat https://t.co/bd0xbFGjkT'"
      ]
     },
     "execution_count": 63,
     "metadata": {},
     "output_type": "execute_result"
    }
   ],
   "source": [
    "financialNews_df['text'][0]"
   ]
  },
  {
   "cell_type": "code",
   "execution_count": 65,
   "metadata": {},
   "outputs": [
    {
     "data": {
      "text/plain": [
       "'$BYND - JPMorgan reels in expectations on Beyond Meat '"
      ]
     },
     "execution_count": 65,
     "metadata": {},
     "output_type": "execute_result"
    }
   ],
   "source": [
    "# News title after modification\n",
    "financialNews_df['text'] = tools.remove_urls(financialNews_df['text'])\n",
    "financialNews_df['text'][0]"
   ]
  },
  {
   "cell_type": "code",
   "execution_count": null,
   "metadata": {},
   "outputs": [],
   "source": [
    "# Test sentiment model using twitter financial news data\n",
    "modelTest_pipeline = pipeline('sentiment-analysis', model='mrm8488/distilroberta-finetuned-financial-news-sentiment-analysis')\n",
    "modelTest_result = modelTest_pipeline(list(financialNews_df['text']))\n",
    "modelTest_result[0:10]"
   ]
  },
  {
   "cell_type": "code",
   "execution_count": 73,
   "metadata": {},
   "outputs": [
    {
     "data": {
      "text/html": [
       "<div>\n",
       "<style scoped>\n",
       "    .dataframe tbody tr th:only-of-type {\n",
       "        vertical-align: middle;\n",
       "    }\n",
       "\n",
       "    .dataframe tbody tr th {\n",
       "        vertical-align: top;\n",
       "    }\n",
       "\n",
       "    .dataframe thead th {\n",
       "        text-align: right;\n",
       "    }\n",
       "</style>\n",
       "<table border=\"1\" class=\"dataframe\">\n",
       "  <thead>\n",
       "    <tr style=\"text-align: right;\">\n",
       "      <th></th>\n",
       "      <th>text</th>\n",
       "      <th>label</th>\n",
       "      <th>test_label</th>\n",
       "      <th>score</th>\n",
       "    </tr>\n",
       "  </thead>\n",
       "  <tbody>\n",
       "    <tr>\n",
       "      <th>0</th>\n",
       "      <td>$BYND - JPMorgan reels in expectations on Beyo...</td>\n",
       "      <td>0</td>\n",
       "      <td>positive</td>\n",
       "      <td>0.999046</td>\n",
       "    </tr>\n",
       "    <tr>\n",
       "      <th>1</th>\n",
       "      <td>$CCL $RCL - Nomura points to bookings weakness...</td>\n",
       "      <td>0</td>\n",
       "      <td>negative</td>\n",
       "      <td>0.998623</td>\n",
       "    </tr>\n",
       "    <tr>\n",
       "      <th>2</th>\n",
       "      <td>$CX - Cemex cut at Credit Suisse, J.P. Morgan ...</td>\n",
       "      <td>0</td>\n",
       "      <td>negative</td>\n",
       "      <td>0.996079</td>\n",
       "    </tr>\n",
       "    <tr>\n",
       "      <th>3</th>\n",
       "      <td>$ESS: BTIG Research cuts to Neutral</td>\n",
       "      <td>0</td>\n",
       "      <td>negative</td>\n",
       "      <td>0.966363</td>\n",
       "    </tr>\n",
       "    <tr>\n",
       "      <th>4</th>\n",
       "      <td>$FNKO - Funko slides after Piper Jaffray PT cut</td>\n",
       "      <td>0</td>\n",
       "      <td>negative</td>\n",
       "      <td>0.864107</td>\n",
       "    </tr>\n",
       "  </tbody>\n",
       "</table>\n",
       "</div>"
      ],
      "text/plain": [
       "                                                text  label test_label  \\\n",
       "0  $BYND - JPMorgan reels in expectations on Beyo...      0   positive   \n",
       "1  $CCL $RCL - Nomura points to bookings weakness...      0   negative   \n",
       "2  $CX - Cemex cut at Credit Suisse, J.P. Morgan ...      0   negative   \n",
       "3               $ESS: BTIG Research cuts to Neutral       0   negative   \n",
       "4   $FNKO - Funko slides after Piper Jaffray PT cut       0   negative   \n",
       "\n",
       "      score  \n",
       "0  0.999046  \n",
       "1  0.998623  \n",
       "2  0.996079  \n",
       "3  0.966363  \n",
       "4  0.864107  "
      ]
     },
     "execution_count": 73,
     "metadata": {},
     "output_type": "execute_result"
    }
   ],
   "source": [
    "# Join results with financial news data\n",
    "modelTest_df = pd.DataFrame(modelTest_result).rename(columns={'label': 'test_label'})\n",
    "\n",
    "joined_df = financialNews_df.join(modelTest_df)\n",
    "joined_df.head()"
   ]
  },
  {
   "cell_type": "code",
   "execution_count": 74,
   "metadata": {},
   "outputs": [
    {
     "data": {
      "text/html": [
       "<div>\n",
       "<style scoped>\n",
       "    .dataframe tbody tr th:only-of-type {\n",
       "        vertical-align: middle;\n",
       "    }\n",
       "\n",
       "    .dataframe tbody tr th {\n",
       "        vertical-align: top;\n",
       "    }\n",
       "\n",
       "    .dataframe thead th {\n",
       "        text-align: right;\n",
       "    }\n",
       "</style>\n",
       "<table border=\"1\" class=\"dataframe\">\n",
       "  <thead>\n",
       "    <tr style=\"text-align: right;\">\n",
       "      <th></th>\n",
       "      <th>text</th>\n",
       "      <th>label</th>\n",
       "      <th>test_label</th>\n",
       "      <th>score</th>\n",
       "      <th>test_label_int</th>\n",
       "    </tr>\n",
       "  </thead>\n",
       "  <tbody>\n",
       "    <tr>\n",
       "      <th>0</th>\n",
       "      <td>$BYND - JPMorgan reels in expectations on Beyo...</td>\n",
       "      <td>0</td>\n",
       "      <td>positive</td>\n",
       "      <td>0.999046</td>\n",
       "      <td>1</td>\n",
       "    </tr>\n",
       "    <tr>\n",
       "      <th>1</th>\n",
       "      <td>$CCL $RCL - Nomura points to bookings weakness...</td>\n",
       "      <td>0</td>\n",
       "      <td>negative</td>\n",
       "      <td>0.998623</td>\n",
       "      <td>0</td>\n",
       "    </tr>\n",
       "    <tr>\n",
       "      <th>2</th>\n",
       "      <td>$CX - Cemex cut at Credit Suisse, J.P. Morgan ...</td>\n",
       "      <td>0</td>\n",
       "      <td>negative</td>\n",
       "      <td>0.996079</td>\n",
       "      <td>0</td>\n",
       "    </tr>\n",
       "    <tr>\n",
       "      <th>3</th>\n",
       "      <td>$ESS: BTIG Research cuts to Neutral</td>\n",
       "      <td>0</td>\n",
       "      <td>negative</td>\n",
       "      <td>0.966363</td>\n",
       "      <td>0</td>\n",
       "    </tr>\n",
       "    <tr>\n",
       "      <th>4</th>\n",
       "      <td>$FNKO - Funko slides after Piper Jaffray PT cut</td>\n",
       "      <td>0</td>\n",
       "      <td>negative</td>\n",
       "      <td>0.864107</td>\n",
       "      <td>0</td>\n",
       "    </tr>\n",
       "  </tbody>\n",
       "</table>\n",
       "</div>"
      ],
      "text/plain": [
       "                                                text  label test_label  \\\n",
       "0  $BYND - JPMorgan reels in expectations on Beyo...      0   positive   \n",
       "1  $CCL $RCL - Nomura points to bookings weakness...      0   negative   \n",
       "2  $CX - Cemex cut at Credit Suisse, J.P. Morgan ...      0   negative   \n",
       "3               $ESS: BTIG Research cuts to Neutral       0   negative   \n",
       "4   $FNKO - Funko slides after Piper Jaffray PT cut       0   negative   \n",
       "\n",
       "      score  test_label_int  \n",
       "0  0.999046               1  \n",
       "1  0.998623               0  \n",
       "2  0.996079               0  \n",
       "3  0.966363               0  \n",
       "4  0.864107               0  "
      ]
     },
     "execution_count": 74,
     "metadata": {},
     "output_type": "execute_result"
    }
   ],
   "source": [
    "# Change test label to integer label\n",
    "joined_df['test_label_int'] = joined_df['test_label'].map({'negative': 0, 'positive': 1, 'neutral': 2})\n",
    "joined_df.head()"
   ]
  },
  {
   "cell_type": "code",
   "execution_count": 77,
   "metadata": {},
   "outputs": [
    {
     "data": {
      "text/plain": [
       "0.744419993712669"
      ]
     },
     "execution_count": 77,
     "metadata": {},
     "output_type": "execute_result"
    }
   ],
   "source": [
    "# Model accuracy\n",
    "sum(joined_df['label'] == joined_df['test_label_int']) / joined_df.shape[0]"
   ]
  },
  {
   "attachments": {},
   "cell_type": "markdown",
   "metadata": {},
   "source": [
    "## Create new data and pipeline, then store in dataframe"
   ]
  },
  {
   "cell_type": "code",
   "execution_count": 3,
   "metadata": {},
   "outputs": [
    {
     "name": "stdout",
     "output_type": "stream",
     "text": [
      "Data loaded successfully.\n",
      "103 articles found.\n"
     ]
    }
   ],
   "source": [
    "# Get news feeds for Apple\n",
    "AAPL_feeds = news.GoogleNews('Apple')"
   ]
  },
  {
   "cell_type": "code",
   "execution_count": 4,
   "metadata": {},
   "outputs": [
    {
     "data": {
      "text/plain": [
       "['Apple Preps Ajax Generative AI, ‘Apple GPT’ to Rival OpenAI and Google - Bloomberg',\n",
       " 'New Apple Exclusive Reveals iPhone 15 Design Surprise - Forbes',\n",
       " \"People Have Begun to Love Apple's Most Hated Product - The Wall Street Journal\",\n",
       " 'Apple Maps versus Google Maps: Tide is turning, say analysts - 9to5Mac',\n",
       " 'After 11 years of work, people actually like Apple Maps - AppleInsider']"
      ]
     },
     "execution_count": 4,
     "metadata": {},
     "output_type": "execute_result"
    }
   ],
   "source": [
    "# Get news titles\n",
    "AAPL_titles = AAPL_feeds.get_titles()\n",
    "AAPL_titles[:5]"
   ]
  },
  {
   "cell_type": "code",
   "execution_count": 5,
   "metadata": {},
   "outputs": [],
   "source": [
    "# Use roberta-financial-news sentiment model\n",
    "sentiment_pipeline = pipeline('sentiment-analysis', model='mrm8488/distilroberta-finetuned-financial-news-sentiment-analysis')\n",
    "pipe_result = sentiment_pipeline(AAPL_titles)"
   ]
  },
  {
   "cell_type": "code",
   "execution_count": 6,
   "metadata": {},
   "outputs": [
    {
     "data": {
      "text/plain": [
       "[{'label': 'neutral',\n",
       "  'score': 0.9970436692237854,\n",
       "  'title': 'Apple Preps Ajax Generative AI, ‘Apple GPT’ to Rival OpenAI and Google - Bloomberg'},\n",
       " {'label': 'neutral',\n",
       "  'score': 0.9987204074859619,\n",
       "  'title': 'New Apple Exclusive Reveals iPhone 15 Design Surprise - Forbes'},\n",
       " {'label': 'positive',\n",
       "  'score': 0.5580980777740479,\n",
       "  'title': \"People Have Begun to Love Apple's Most Hated Product - The Wall Street Journal\"},\n",
       " {'label': 'neutral',\n",
       "  'score': 0.9463282823562622,\n",
       "  'title': 'Apple Maps versus Google Maps: Tide is turning, say analysts - 9to5Mac'},\n",
       " {'label': 'neutral',\n",
       "  'score': 0.9998553991317749,\n",
       "  'title': 'After 11 years of work, people actually like Apple Maps - AppleInsider'},\n",
       " {'label': 'neutral',\n",
       "  'score': 0.9998252987861633,\n",
       "  'title': \"Apple Silicon isn't waiting for the PC world to catch up - Computerworld\"},\n",
       " {'label': 'positive',\n",
       "  'score': 0.9441279768943787,\n",
       "  'title': \"Apple's 13-Inch M2 MacBook Pro Is Back at Its Best Price: $200 Off at Amazon - CNET\"},\n",
       " {'label': 'neutral',\n",
       "  'score': 0.9998788833618164,\n",
       "  'title': \"Apple's First M3-Powered Macs Likely to Launch in October - MacRumors\"},\n",
       " {'label': 'positive',\n",
       "  'score': 0.9862778782844543,\n",
       "  'title': 'Forget The MacBook Pro, Apple Has Something Much Better - Forbes'},\n",
       " {'label': 'negative',\n",
       "  'score': 0.9832817912101746,\n",
       "  'title': 'Giant telecom company that once almost bought Apple is teetering on the brink of failure - Fortune'}]"
      ]
     },
     "execution_count": 6,
     "metadata": {},
     "output_type": "execute_result"
    }
   ],
   "source": [
    "# Combine pipeline results with news titles\n",
    "pipe_result = tools.combine_result(pipe_result, AAPL_titles)\n",
    "pipe_result[:10]"
   ]
  },
  {
   "cell_type": "code",
   "execution_count": 7,
   "metadata": {},
   "outputs": [
    {
     "data": {
      "text/html": [
       "<div>\n",
       "<style scoped>\n",
       "    .dataframe tbody tr th:only-of-type {\n",
       "        vertical-align: middle;\n",
       "    }\n",
       "\n",
       "    .dataframe tbody tr th {\n",
       "        vertical-align: top;\n",
       "    }\n",
       "\n",
       "    .dataframe thead th {\n",
       "        text-align: right;\n",
       "    }\n",
       "</style>\n",
       "<table border=\"1\" class=\"dataframe\">\n",
       "  <thead>\n",
       "    <tr style=\"text-align: right;\">\n",
       "      <th></th>\n",
       "      <th>label</th>\n",
       "      <th>score</th>\n",
       "      <th>title</th>\n",
       "    </tr>\n",
       "  </thead>\n",
       "  <tbody>\n",
       "    <tr>\n",
       "      <th>0</th>\n",
       "      <td>neutral</td>\n",
       "      <td>0.997044</td>\n",
       "      <td>Apple Preps Ajax Generative AI, ‘Apple GPT’ to...</td>\n",
       "    </tr>\n",
       "    <tr>\n",
       "      <th>1</th>\n",
       "      <td>neutral</td>\n",
       "      <td>0.998720</td>\n",
       "      <td>New Apple Exclusive Reveals iPhone 15 Design S...</td>\n",
       "    </tr>\n",
       "    <tr>\n",
       "      <th>2</th>\n",
       "      <td>positive</td>\n",
       "      <td>0.558098</td>\n",
       "      <td>People Have Begun to Love Apple's Most Hated P...</td>\n",
       "    </tr>\n",
       "    <tr>\n",
       "      <th>3</th>\n",
       "      <td>neutral</td>\n",
       "      <td>0.946328</td>\n",
       "      <td>Apple Maps versus Google Maps: Tide is turning...</td>\n",
       "    </tr>\n",
       "    <tr>\n",
       "      <th>4</th>\n",
       "      <td>neutral</td>\n",
       "      <td>0.999855</td>\n",
       "      <td>After 11 years of work, people actually like A...</td>\n",
       "    </tr>\n",
       "    <tr>\n",
       "      <th>5</th>\n",
       "      <td>neutral</td>\n",
       "      <td>0.999825</td>\n",
       "      <td>Apple Silicon isn't waiting for the PC world t...</td>\n",
       "    </tr>\n",
       "    <tr>\n",
       "      <th>6</th>\n",
       "      <td>positive</td>\n",
       "      <td>0.944128</td>\n",
       "      <td>Apple's 13-Inch M2 MacBook Pro Is Back at Its ...</td>\n",
       "    </tr>\n",
       "    <tr>\n",
       "      <th>7</th>\n",
       "      <td>neutral</td>\n",
       "      <td>0.999879</td>\n",
       "      <td>Apple's First M3-Powered Macs Likely to Launch...</td>\n",
       "    </tr>\n",
       "    <tr>\n",
       "      <th>8</th>\n",
       "      <td>positive</td>\n",
       "      <td>0.986278</td>\n",
       "      <td>Forget The MacBook Pro, Apple Has Something Mu...</td>\n",
       "    </tr>\n",
       "    <tr>\n",
       "      <th>9</th>\n",
       "      <td>negative</td>\n",
       "      <td>0.983282</td>\n",
       "      <td>Giant telecom company that once almost bought ...</td>\n",
       "    </tr>\n",
       "  </tbody>\n",
       "</table>\n",
       "</div>"
      ],
      "text/plain": [
       "      label     score                                              title\n",
       "0   neutral  0.997044  Apple Preps Ajax Generative AI, ‘Apple GPT’ to...\n",
       "1   neutral  0.998720  New Apple Exclusive Reveals iPhone 15 Design S...\n",
       "2  positive  0.558098  People Have Begun to Love Apple's Most Hated P...\n",
       "3   neutral  0.946328  Apple Maps versus Google Maps: Tide is turning...\n",
       "4   neutral  0.999855  After 11 years of work, people actually like A...\n",
       "5   neutral  0.999825  Apple Silicon isn't waiting for the PC world t...\n",
       "6  positive  0.944128  Apple's 13-Inch M2 MacBook Pro Is Back at Its ...\n",
       "7   neutral  0.999879  Apple's First M3-Powered Macs Likely to Launch...\n",
       "8  positive  0.986278  Forget The MacBook Pro, Apple Has Something Mu...\n",
       "9  negative  0.983282  Giant telecom company that once almost bought ..."
      ]
     },
     "execution_count": 7,
     "metadata": {},
     "output_type": "execute_result"
    }
   ],
   "source": [
    "# Transform into dataframe\n",
    "sentiment_df = pd.DataFrame.from_dict(pipe_result)\n",
    "sentiment_df.head(10)"
   ]
  },
  {
   "cell_type": "code",
   "execution_count": 8,
   "metadata": {},
   "outputs": [
    {
     "data": {
      "text/html": [
       "<div>\n",
       "<style scoped>\n",
       "    .dataframe tbody tr th:only-of-type {\n",
       "        vertical-align: middle;\n",
       "    }\n",
       "\n",
       "    .dataframe tbody tr th {\n",
       "        vertical-align: top;\n",
       "    }\n",
       "\n",
       "    .dataframe thead th {\n",
       "        text-align: right;\n",
       "    }\n",
       "</style>\n",
       "<table border=\"1\" class=\"dataframe\">\n",
       "  <thead>\n",
       "    <tr style=\"text-align: right;\">\n",
       "      <th></th>\n",
       "      <th>label</th>\n",
       "      <th>score</th>\n",
       "      <th>title</th>\n",
       "      <th>label_int</th>\n",
       "    </tr>\n",
       "  </thead>\n",
       "  <tbody>\n",
       "    <tr>\n",
       "      <th>0</th>\n",
       "      <td>neutral</td>\n",
       "      <td>0.997044</td>\n",
       "      <td>Apple Preps Ajax Generative AI, ‘Apple GPT’ to...</td>\n",
       "      <td>2</td>\n",
       "    </tr>\n",
       "    <tr>\n",
       "      <th>1</th>\n",
       "      <td>neutral</td>\n",
       "      <td>0.998720</td>\n",
       "      <td>New Apple Exclusive Reveals iPhone 15 Design S...</td>\n",
       "      <td>2</td>\n",
       "    </tr>\n",
       "    <tr>\n",
       "      <th>2</th>\n",
       "      <td>positive</td>\n",
       "      <td>0.558098</td>\n",
       "      <td>People Have Begun to Love Apple's Most Hated P...</td>\n",
       "      <td>1</td>\n",
       "    </tr>\n",
       "    <tr>\n",
       "      <th>3</th>\n",
       "      <td>neutral</td>\n",
       "      <td>0.946328</td>\n",
       "      <td>Apple Maps versus Google Maps: Tide is turning...</td>\n",
       "      <td>2</td>\n",
       "    </tr>\n",
       "    <tr>\n",
       "      <th>4</th>\n",
       "      <td>neutral</td>\n",
       "      <td>0.999855</td>\n",
       "      <td>After 11 years of work, people actually like A...</td>\n",
       "      <td>2</td>\n",
       "    </tr>\n",
       "  </tbody>\n",
       "</table>\n",
       "</div>"
      ],
      "text/plain": [
       "      label     score                                              title  \\\n",
       "0   neutral  0.997044  Apple Preps Ajax Generative AI, ‘Apple GPT’ to...   \n",
       "1   neutral  0.998720  New Apple Exclusive Reveals iPhone 15 Design S...   \n",
       "2  positive  0.558098  People Have Begun to Love Apple's Most Hated P...   \n",
       "3   neutral  0.946328  Apple Maps versus Google Maps: Tide is turning...   \n",
       "4   neutral  0.999855  After 11 years of work, people actually like A...   \n",
       "\n",
       "   label_int  \n",
       "0          2  \n",
       "1          2  \n",
       "2          1  \n",
       "3          2  \n",
       "4          2  "
      ]
     },
     "execution_count": 8,
     "metadata": {},
     "output_type": "execute_result"
    }
   ],
   "source": [
    "# Create new column that hold label as integer\n",
    "sentiment_df['label_int'] = sentiment_df['label'].map({'negative': 0, 'positive': 1, 'neutral': 2})\n",
    "sentiment_df.head()"
   ]
  },
  {
   "cell_type": "code",
   "execution_count": 9,
   "metadata": {},
   "outputs": [
    {
     "name": "stdout",
     "output_type": "stream",
     "text": [
      "Positive : 13 (12.62%)\n",
      "Neutral : 79 (76.7%)\n",
      "Negative : 11 (10.68%)\n",
      "Of total 103 articles\n"
     ]
    }
   ],
   "source": [
    "tools.get_percentages(sentiment_df['label_int'])"
   ]
  },
  {
   "cell_type": "code",
   "execution_count": 10,
   "metadata": {},
   "outputs": [],
   "source": [
    "# fine-tune a pretrained model"
   ]
  },
  {
   "cell_type": "code",
   "execution_count": null,
   "metadata": {},
   "outputs": [],
   "source": []
  }
 ],
 "metadata": {
  "kernelspec": {
   "display_name": "base",
   "language": "python",
   "name": "python3"
  },
  "language_info": {
   "codemirror_mode": {
    "name": "ipython",
    "version": 3
   },
   "file_extension": ".py",
   "mimetype": "text/x-python",
   "name": "python",
   "nbconvert_exporter": "python",
   "pygments_lexer": "ipython3",
   "version": "3.8.16"
  },
  "orig_nbformat": 4
 },
 "nbformat": 4,
 "nbformat_minor": 2
}
