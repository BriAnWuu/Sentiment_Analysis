{
 "cells": [
  {
   "cell_type": "code",
   "execution_count": 2,
   "metadata": {},
   "outputs": [],
   "source": [
    "import news"
   ]
  },
  {
   "cell_type": "code",
   "execution_count": 3,
   "metadata": {},
   "outputs": [
    {
     "name": "stdout",
     "output_type": "stream",
     "text": [
      "Data successfully loaded.\n"
     ]
    }
   ],
   "source": [
    "feeds = news.GoogleNews()"
   ]
  },
  {
   "cell_type": "code",
   "execution_count": 6,
   "metadata": {},
   "outputs": [
    {
     "data": {
      "text/plain": [
       "['What Makes Alphabet (GOOG) a Good Long-Term Investment? - Yahoo Finance',\n",
       " 'Why do Long-Term Investors Love Alphabet (GOOG)? - Yahoo Finance',\n",
       " '3 No-Brainer Stocks to Buy Right Now for Less Than $200 - The Motley Fool',\n",
       " 'My Top Stock to Buy in a New Bull Market - The Motley Fool',\n",
       " 'Google: Not Hyped, But Not Cheap Either (NASDAQ:GOOG) - Seeking Alpha',\n",
       " 'BIDU vs. GOOG: Which Stock Should Value Investors Buy Now? - Yahoo Finance',\n",
       " \"Why This YouTuber Isn't Buying What MrBeast Is Selling? - Alphabet (NASDAQ:GOOG), Alphabet (NASDAQ:GOOGL) - Benzinga\",\n",
       " 'Google: Why I See New Highs Coming (Rating Upgrade) (NASDAQ:GOOG) - Seeking Alpha',\n",
       " 'Google Accused of Breaching Promised Ad Standards, Big Brands and Government Agencies Affected - Alphabet - Benzinga',\n",
       " '2 Cheap AI Stocks to Buy Right Now - The Motley Fool']"
      ]
     },
     "execution_count": 6,
     "metadata": {},
     "output_type": "execute_result"
    }
   ],
   "source": [
    "feeds.get_titles()[:10]"
   ]
  },
  {
   "cell_type": "code",
   "execution_count": null,
   "metadata": {},
   "outputs": [],
   "source": []
  }
 ],
 "metadata": {
  "kernelspec": {
   "display_name": "base",
   "language": "python",
   "name": "python3"
  },
  "language_info": {
   "codemirror_mode": {
    "name": "ipython",
    "version": 3
   },
   "file_extension": ".py",
   "mimetype": "text/x-python",
   "name": "python",
   "nbconvert_exporter": "python",
   "pygments_lexer": "ipython3",
   "version": "3.8.16"
  },
  "orig_nbformat": 4
 },
 "nbformat": 4,
 "nbformat_minor": 2
}
